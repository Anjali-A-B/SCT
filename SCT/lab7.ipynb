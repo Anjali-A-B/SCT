{
 "cells": [
  {
   "cell_type": "code",
   "execution_count": 5,
   "id": "48b811f2",
   "metadata": {},
   "outputs": [
    {
     "name": "stdout",
     "output_type": "stream",
     "text": [
      "Generation 1: Best chromosome - 010111, fitness = 4\n",
      "Generation 2: Best chromosome - 110111, fitness = 5\n",
      "Generation 3: Best chromosome - 110111, fitness = 5\n",
      "Generation 4: Best chromosome - 110100, fitness = 5\n",
      "Generation 5: Best chromosome - 110110, fitness = 6\n",
      "Target chromosome reached!\n"
     ]
    }
   ],
   "source": [
    "# 7.  Write a program to implement simple genetic algorithm\n",
    "import random\n",
    "population_size = 10\n",
    "chromosome_length = 6\n",
    "mutation_rate = 0.1\n",
    "target_chromosome = '110110'\n",
    "\n",
    "# Generate initial population\n",
    "population = [''.join(random.choice('01') for _ in range(chromosome_length)) for _ in range \n",
    "             (population_size)]\n",
    "#print(population)\n",
    "\n",
    "# Evaluate fitness of a chromosome\n",
    "def fitness(chromosome):\n",
    "    return sum(bit == target_bit for bit, target_bit in zip(chromosome, target_chromosome))\n",
    "\n",
    "for generation in range(50):\n",
    "    new_population = []\n",
    "    for _ in range(population_size // 2):\n",
    "        parents = random.choices(population, weights=[fitness(chromosome) for chromosome in population], \n",
    "                  k = 2)\n",
    "        crossover_point = random.randint(0, chromosome_length-1)\n",
    "        child1 = parents[0][:crossover_point] + parents[1][crossover_point:]\n",
    "        child2 = parents[1][:crossover_point] + parents[1][crossover_point:]\n",
    "\n",
    "        #mutation\n",
    "        child1 = ''.join(bit if random.random() > mutation_rate else str (1 - int(bit)) for bit in child1)\n",
    "        child2 = ''.join(bit if random.random() > mutation_rate else str (1 - int(bit)) for bit in child2)\n",
    "\n",
    "        new_population.extend([child1, child2])\n",
    "    population = new_population\n",
    "    best_chromosome = max(population, key=fitness)\n",
    "    print(f'Generation {generation+1}: Best chromosome - {best_chromosome}, fitness = {fitness  (best_chromosome)}')\n",
    "\n",
    "     # Check for convergence\n",
    "    if fitness(best_chromosome) == len(target_chromosome):\n",
    "        print(\"Target chromosome reached!\")\n",
    "        break"
   ]
  },
  {
   "cell_type": "code",
   "execution_count": null,
   "id": "adf42136",
   "metadata": {},
   "outputs": [],
   "source": []
  }
 ],
 "metadata": {
  "kernelspec": {
   "display_name": "Python 3",
   "language": "python",
   "name": "python3"
  },
  "language_info": {
   "codemirror_mode": {
    "name": "ipython",
    "version": 3
   },
   "file_extension": ".py",
   "mimetype": "text/x-python",
   "name": "python",
   "nbconvert_exporter": "python",
   "pygments_lexer": "ipython3",
   "version": "3.6.9"
  }
 },
 "nbformat": 4,
 "nbformat_minor": 5
}
