{
 "cells": [
  {
   "cell_type": "code",
   "execution_count": null,
   "id": "f2e0748b",
   "metadata": {},
   "outputs": [],
   "source": [
    "# 1. Write a Program to implement Multiple Perceptron Model.\n",
    "\n",
    "import tensorflow as tf\n",
    "from tensorflow.keras import layers, models\n",
    "\n",
    "# Define the MLP model\n",
    "def create_mlp(input_size, hidden_sizes, output_size):\n",
    "    model = models.Sequential()\n",
    "    \n",
    "    # Add the input layer\n",
    "    model.add(layers.InputLayer(input_shape=(input_size,)))\n",
    "    \n",
    "    # Add hidden layers\n",
    "    for hidden_size in hidden_sizes:\n",
    "        model.add(layers.Dense(hidden_size, activation='relu'))\n",
    "        \n",
    "    # Add the output layer\n",
    "    model.add(layers.Dense(output_size, activation='softmax'))\n",
    "    \n",
    "    return model\n",
    "\n",
    "# Example usage\n",
    "\n",
    "if __name__ == \"__main__\":\n",
    "    # Define the model architecture\n",
    "    input_size = 10 # Example: Number of input features\n",
    "    hidden_sizes = [64, 32] # Example: Two hidden layers with 64 and 32 neurons,\n",
    "    respectively\n",
    "    output_size = 2 # Example: Number of output classes\n",
    "    \n",
    "    # Create the MLP model\n",
    "    mlp_model = create_mlp(input_size, hidden_sizes, output_size)\n",
    "    \n",
    "    # Display the model summary\n",
    "    mlp_model.summary()\n",
    "    "
   ]
  }
 ],
 "metadata": {
  "kernelspec": {
   "display_name": "Python 3",
   "language": "python",
   "name": "python3"
  },
  "language_info": {
   "codemirror_mode": {
    "name": "ipython",
    "version": 3
   },
   "file_extension": ".py",
   "mimetype": "text/x-python",
   "name": "python",
   "nbconvert_exporter": "python",
   "pygments_lexer": "ipython3",
   "version": "3.6.9"
  }
 },
 "nbformat": 4,
 "nbformat_minor": 5
}
