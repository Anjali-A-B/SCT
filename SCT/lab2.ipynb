{
 "cells": [
  {
   "cell_type": "code",
   "execution_count": null,
   "id": "dff6c318",
   "metadata": {},
   "outputs": [],
   "source": [
    "import numpy as np\n",
    "import tensorflow as tf\n",
    "\n",
    "#Define XOR input and output\n",
    "\n",
    "X = np.array([[0, 0], [0, 1], [1, 0], [1, 1]], dtype=np.float32)\n",
    "y = np.array([[0], [1], [1], [0]], dtype=np.float32)\n",
    "\n",
    "#Define the neural network architecture\n",
    "model = tf.keras.Sequential([\n",
    "\n",
    "    tf.keras.layers.Dense(2, input_dim=2, activation='sigmoid'),     #Input layer with 2 nodes\n",
    "    tf.keras.layers.Dense (1, activation='sigmoid')    # Output layer with 1 node\n",
    "])\n",
    " \n",
    "#Compile the model\n",
    "model.compile(optimizer='adam', loss='mean_squared_error', metrics=['accuracy'])\n",
    "              \n",
    "              \n",
    "# Train the model on XOR data\n",
    "model.fit(X, y, epochs=10000, verbose=0)\n",
    "\n",
    "#Evaluate the model on XOR data\n",
    "predictions = model.predict(X)\n",
    "rounded_predictions = np.round(predictions)\n",
    "\n",
    "# Print the results\n",
    "              \n",
    "print(\"Input :  \")\n",
    "print(X)\n",
    "print(\"\\nPredictions : \")\n",
    "print(predictions)\n",
    "print(\"Rounded Predictions : \")\n",
    "print(rounded_predictions)"
   ]
  },
  {
   "cell_type": "code",
   "execution_count": null,
   "id": "56697a1a",
   "metadata": {},
   "outputs": [],
   "source": []
  }
 ],
 "metadata": {
  "kernelspec": {
   "display_name": "Python 3",
   "language": "python",
   "name": "python3"
  },
  "language_info": {
   "codemirror_mode": {
    "name": "ipython",
    "version": 3
   },
   "file_extension": ".py",
   "mimetype": "text/x-python",
   "name": "python",
   "nbconvert_exporter": "python",
   "pygments_lexer": "ipython3",
   "version": "3.6.9"
  }
 },
 "nbformat": 4,
 "nbformat_minor": 5
}
